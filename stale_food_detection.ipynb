{
  "nbformat": 4,
  "nbformat_minor": 0,
  "metadata": {
    "colab": {
      "name": "stale_food_detection.ipynb",
      "provenance": [],
      "authorship_tag": "ABX9TyNnlYrHDlyKR3VV7rw9eslP",
      "include_colab_link": true
    },
    "kernelspec": {
      "name": "python3",
      "display_name": "Python 3"
    },
    "language_info": {
      "name": "python"
    }
  },
  "cells": [
    {
      "cell_type": "markdown",
      "metadata": {
        "id": "view-in-github",
        "colab_type": "text"
      },
      "source": [
        "<a href=\"https://colab.research.google.com/github/felkira/stale_food_detection/blob/main/stale_food_detection.ipynb\" target=\"_parent\"><img src=\"https://colab.research.google.com/assets/colab-badge.svg\" alt=\"Open In Colab\"/></a>"
      ]
    },
    {
      "cell_type": "code",
      "metadata": {
        "id": "srdlLZYpTeEN"
      },
      "source": [
        "from google.colab import drive\n",
        "drive.mount('/content/drive')"
      ],
      "execution_count": null,
      "outputs": []
    },
    {
      "cell_type": "code",
      "metadata": {
        "id": "d0TIYk9NqVu8"
      },
      "source": [
        "import tensorflow as tf\n",
        "import tensorflow.keras.backend as K\n",
        "from tensorflow.keras.models import load_model\n",
        "from tensorflow.keras.preprocessing import image\n",
        "from tensorflow.keras.applications.inception_v3 import preprocess_input\n",
        "from tensorflow.keras.applications.inception_v3 import InceptionV3\n",
        "from tensorflow.keras import regularizers\n",
        "from tensorflow.keras.regularizers import l2\n",
        "from keras_preprocessing.image import ImageDataGenerator\n",
        "import pandas as pd\n",
        "import seaborn as sns\n",
        "import numpy as np\n",
        "import matplotlib.pyplot as plt\n",
        "import matplotlib.image as img\n",
        "%matplotlib inline"
      ],
      "execution_count": null,
      "outputs": []
    },
    {
      "cell_type": "code",
      "metadata": {
        "id": "-iO7jNJWEBOV"
      },
      "source": [
        "food_list = ['apel_segar', 'jeruk_segar', 'pisang_segar', 'tomat_segar', 'apel_busuk', 'jeruk_busuk', 'pisang_busuk', 'tomat_busuk']"
      ],
      "execution_count": null,
      "outputs": []
    },
    {
      "cell_type": "code",
      "metadata": {
        "id": "JilqEiAA_LQu"
      },
      "source": [
        "def plot_accuracy(history, title):\n",
        "    plt.title(title)\n",
        "    plt.plot(history.history['acc'])\n",
        "    plt.plot(history.history['val_acc'])\n",
        "    plt.ylabel('accuracy')\n",
        "    plt.xlabel('epoch')\n",
        "    plt.legend(['train_accuracy', 'validation_accuracy'], loc='best')\n",
        "    plt.show()\n",
        "\n",
        "\n",
        "def plot_loss(history, title):\n",
        "    plt.title(title)\n",
        "    plt.plot(history.history['loss'])\n",
        "    plt.plot(history.history['val_loss'])\n",
        "    plt.ylabel('loss')\n",
        "    plt.xlabel('epoch')\n",
        "    plt.legend(['train_loss', 'validation_loss'], loc='best')\n",
        "    plt.show()"
      ],
      "execution_count": null,
      "outputs": []
    },
    {
      "cell_type": "code",
      "metadata": {
        "id": "uT7Hj8LeJYqx"
      },
      "source": [
        "def recall(y_true, y_pred):\n",
        "     true_positives = K.sum(K.round(K.clip(y_true * y_pred, 0, 1)))\n",
        "     possible_positives = K.sum(K.round(K.clip(y_true, 0, 1)))\n",
        "     recall = true_positives / (possible_positives + K.epsilon())\n",
        "     return recall\n",
        "\n",
        "def precision(y_true, y_pred):\n",
        "    true_positives = K.sum(K.round(K.clip(y_true * y_pred, 0, 1)))\n",
        "    predicted_positives = K.sum(K.round(K.clip(y_pred, 0, 1)))\n",
        "    precision = true_positives / (predicted_positives + K.epsilon())\n",
        "    return precision"
      ],
      "execution_count": null,
      "outputs": []
    },
    {
      "cell_type": "code",
      "metadata": {
        "id": "bTGiPyiNoc9y"
      },
      "source": [
        "def model_train():\n",
        "    DIR = '/content/drive/MyDrive/bangkits-fruit'\n",
        "\n",
        "    train_datagen = ImageDataGenerator(preprocessing_function = preprocess_input,\n",
        "                                       validation_split=0.25,\n",
        "                                       shear_range = 0.2,\n",
        "                                       zoom_range = 0.2,\n",
        "                                       horizontal_flip = True)\n",
        "    \n",
        "    test_datagen = ImageDataGenerator(preprocessing_function = preprocess_input,  validation_split=0.25)\n",
        "    \n",
        "    train_generator = train_datagen.flow_from_directory(DIR,\n",
        "                                                        target_size = (299, 299),\n",
        "                                                        shuffle=True,\n",
        "                                                        subset='training',\n",
        "                                                        class_mode = 'categorical')\n",
        "    \n",
        "    validation_generator = test_datagen.flow_from_directory(DIR,\n",
        "                                                            target_size = (299, 299),\n",
        "                                                            shuffle=True,\n",
        "                                                            subset='validation',\n",
        "                                                            class_mode = 'categorical')\n",
        "    \n",
        "    inception = InceptionV3(weights = 'imagenet', include_top = False)\n",
        "    x = inception.output\n",
        "    x = tf.keras.layers.GlobalAveragePooling2D()(x)\n",
        "    x = tf.keras.layers.Dense(512, activation = 'relu')(x)\n",
        "    x = tf.keras.layers.Dropout(0.2)(x)\n",
        "\n",
        "    predictions = tf.keras.layers.Dense(8, kernel_regularizer = regularizers.l2(0.005), activation = 'softmax')(x)\n",
        "\n",
        "    model = tf.keras.models.Model(inputs = inception.input, outputs = predictions)\n",
        "    opt = tf.keras.optimizers.Nadam(learning_rate = 1e-5, beta_1 = 0.9, beta_2 = 0.999, epsilon = 1e-07)\n",
        "    model.compile(optimizer = opt, loss = 'categorical_crossentropy', metrics = ['acc', recall, precision])\n",
        "    model.summary()\n",
        "\n",
        "    class myCallback(tf.keras.callbacks.Callback):\n",
        "        def on_epoch_end(self, epoch, logs={}):\n",
        "            if (logs.get('acc') > 0.91 and logs.get('val_acc') > 0.91):\n",
        "                print(\"\\nReach the desired accuracy and validation_accuracy!\")\n",
        "                self.model.stop_training = True\n",
        "\n",
        "    callbacks = myCallback()\n",
        "    history = model.fit(train_generator,\n",
        "                        steps_per_epoch = 50,\n",
        "                        validation_data = validation_generator,\n",
        "                        validation_steps = 10,\n",
        "                        epochs = 10,\n",
        "                        verbose = 1,\n",
        "                        callbacks = [callbacks])\n",
        "    \n",
        "    print(\"\\n\")\n",
        "    pred = model.predict(validation_generator)\n",
        "    y_pred = np.argmax(pred, axis=1)\n",
        "    y_true = validation_generator.classes\n",
        "    con_mat = tf.math.confusion_matrix(labels=y_true, predictions=y_pred).numpy()\n",
        "    con_mat_norm = np.around(con_mat.astype('float') / con_mat.sum(axis=1)[:, np.newaxis], decimals=2)\n",
        "    classes = list(validation_generator.class_indices.keys())\n",
        "    con_mat_df = pd.DataFrame(con_mat_norm, index = classes, columns = classes)\n",
        "    figure = plt.figure(figsize=(10, 8))\n",
        "    sns.heatmap(con_mat_df, annot=True, cmap=plt.cm.Blues)\n",
        "    plt.tight_layout()\n",
        "    plt.ylabel('True label')\n",
        "    plt.xlabel('Predicted label')\n",
        "    plt.show()\n",
        "    print(\"\\n\")\n",
        "\n",
        "    score = model.evaluate(validation_generator, verbose=0)\n",
        "    print(\"Test Accuracy\\t: \", score[1])\n",
        "    print(\"Test Recall\\t: \", score[2])\n",
        "    print(\"Test Precision\\t: \", score[3])\n",
        "    f1score = 2*score[2]*score[3]/(score[2] + score[3])\n",
        "    print(\"Test F1-Score\\t: \", f1score)\n",
        "    print(\"\\n\")\n",
        "\n",
        "    plot_accuracy(history, 'bangkits-fruit_inceptionV3')\n",
        "    plot_loss(history, 'bangkits-fruit_inceptionV3')\n",
        "    return model"
      ],
      "execution_count": null,
      "outputs": []
    },
    {
      "cell_type": "code",
      "metadata": {
        "id": "ENnlI87PR16p"
      },
      "source": [
        "model = model_train()\n",
        "model.save(\"model.h5\")"
      ],
      "execution_count": null,
      "outputs": []
    },
    {
      "cell_type": "code",
      "metadata": {
        "id": "eqp8D31PS_Kx"
      },
      "source": [
        "optimization = tf.lite.Optimize.DEFAULT\n",
        "\n",
        "converter = tf.lite.TFLiteConverter.from_keras_model(model)\n",
        "converter.optimizations = [optimization]\n",
        "tflite_model = converter.convert()\n",
        "\n",
        "with open('model.tflite', 'wb') as f:\n",
        "  f.write(tflite_model)"
      ],
      "execution_count": null,
      "outputs": []
    },
    {
      "cell_type": "code",
      "metadata": {
        "id": "Z8tTcpQeE-5M"
      },
      "source": [
        "%%time\n",
        "K.clear_session()\n",
        "model_fix = load_model('model.h5', compile = False)"
      ],
      "execution_count": null,
      "outputs": []
    },
    {
      "cell_type": "code",
      "metadata": {
        "id": "4ep5wepjFBjw"
      },
      "source": [
        "def predict_class(model, images, show = True):\n",
        "  for img in images:\n",
        "    img = image.load_img(img, target_size=(299, 299))\n",
        "    img = image.img_to_array(img)                    \n",
        "    img = np.expand_dims(img, axis=0)         \n",
        "    img = preprocess_input(img)                                      \n",
        "\n",
        "    pred = model.predict(img)\n",
        "    index = np.argmax(pred)\n",
        "    food_list.sort()\n",
        "    pred_value = food_list[index]\n",
        "    #print(pred)\n",
        "    if show:\n",
        "        plt.imshow(img[0])                           \n",
        "        plt.axis('off')\n",
        "        plt.title(pred_value)\n",
        "        plt.show()"
      ],
      "execution_count": null,
      "outputs": []
    },
    {
      "cell_type": "code",
      "metadata": {
        "id": "FzRY3nV7FHc-"
      },
      "source": [
        "images = []\n",
        "imagepath = '/content/drive/MyDrive/test_fruit/'\n",
        "images.append(imagepath+'01.png')\n",
        "images.append(imagepath+'02.png')\n",
        "images.append(imagepath+'03.png')\n",
        "images.append(imagepath+'04.png')\n",
        "images.append(imagepath+'05.png')\n",
        "images.append(imagepath+'06.png')\n",
        "images.append(imagepath+'07.jpg')\n",
        "images.append(imagepath+'08.png')\n",
        "images.append(imagepath+'09.png')\n",
        "images.append(imagepath+'10.png')\n",
        "images.append(imagepath+'11.png')\n",
        "images.append(imagepath+'12.png')\n",
        "images.append(imagepath+'13.png')\n",
        "images.append(imagepath+'14.jpg')\n",
        "images.append(imagepath+'15.jpg')\n",
        "predict_class(model_fix, images, True)"
      ],
      "execution_count": null,
      "outputs": []
    },
    {
      "cell_type": "code",
      "execution_count": null,
      "metadata": {
        "id": "a84rGI8-BR-B"
      },
      "outputs": [],
      "source": [
        ""
      ]
    }
  ]
}